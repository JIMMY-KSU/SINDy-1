{
 "cells": [
  {
   "cell_type": "code",
   "execution_count": 1,
   "metadata": {
    "collapsed": false
   },
   "outputs": [],
   "source": [
    "from SINDy import *\n",
    "import numpy as np\n",
    "%matplotlib inline"
   ]
  },
  {
   "cell_type": "code",
   "execution_count": 2,
   "metadata": {
    "collapsed": false
   },
   "outputs": [],
   "source": [
    "data  = np.array([[1,.2,3],[3,4,5]])\n",
    "ddata = np.array([[1,2,3],[3,4,5]])"
   ]
  },
  {
   "cell_type": "code",
   "execution_count": 3,
   "metadata": {
    "collapsed": false
   },
   "outputs": [
    {
     "name": "stdout",
     "output_type": "stream",
     "text": [
      "[[ 0.2  3. ]\n",
      " [ 4.   5. ]]\n",
      "[ 1.  3.]\n",
      "Initiated a class for Sparse Identification from Numerical Dynamics\n",
      "**** Derivative Set ****\n"
     ]
    }
   ],
   "source": [
    "sindy = SINDy(data=data,polyorder=1,usesine=False,cutoff=.5)\n",
    "sindy.setDerivative(ddata)"
   ]
  },
  {
   "cell_type": "code",
   "execution_count": 4,
   "metadata": {
    "collapsed": false
   },
   "outputs": [
    {
     "name": "stdout",
     "output_type": "stream",
     "text": [
      "**** Candidate functions library has been created ****\n",
      "**** Performing regression. Please wait... ****\n",
      "\tIteration 0 in progress...\n",
      "\tIteration 1 in progress...\n",
      "\tIteration 2 in progress...\n",
      "\tIteration 3 in progress...\n",
      "\tIteration 4 in progress...\n",
      "\tIteration 5 in progress...\n",
      "\tIteration 6 in progress...\n",
      "\tIteration 7 in progress...\n",
      "\tIteration 8 in progress...\n",
      "\tIteration 9 in progress...\n",
      "**** Identification is complete. We now use it to simulate the system. ****\n",
      "True\n",
      "[ 1.  3.]\n",
      "(3.0, array([ 13.21461206,  20.56181555]))\n"
     ]
    }
   ],
   "source": [
    "sindy.RunSINDy()"
   ]
  },
  {
   "cell_type": "code",
   "execution_count": 5,
   "metadata": {
    "collapsed": false
   },
   "outputs": [
    {
     "name": "stderr",
     "output_type": "stream",
     "text": [
      "SINDy.py:105: UserWarning: The number of state symbols don't match the state dimension.\n",
      "  warnings.warn(\"The number of state symbols don't match the state dimension.\")\n"
     ]
    },
    {
     "data": {
      "image/png": "[encoded data removed]",
      "text/plain": [
       "<matplotlib.figure.Figure at 0x1116d46d0>"
      ]
     },
     "metadata": {},
     "output_type": "display_data"
    }
   ],
   "source": [
    "sindy.SINDyPlot()"
   ]
  },
  {
   "cell_type": "markdown",
   "metadata": {},
   "source": [
    "# Try an example"
   ]
  },
  {
   "cell_type": "code",
   "execution_count": 6,
   "metadata": {
    "collapsed": true
   },
   "outputs": [],
   "source": [
    "from SIR import *"
   ]
  },
  {
   "cell_type": "code",
   "execution_count": 7,
   "metadata": {
    "collapsed": false
   },
   "outputs": [
    {
     "data": {
      "image/png": "[encoded data removed]",
      "text/plain": [
       "<matplotlib.figure.Figure at 0x10c90f690>"
      ]
     },
     "metadata": {},
     "output_type": "display_data"
    }
   ],
   "source": [
    "sir = SIR(tstart=0, tend=8, dt=.001, beta=3, gamma=2, N=1)\n",
    "sir.Initialize(S0=0.9, I0=0.1, R0=0);\n",
    "sir.Simulate();\n",
    "sir.PlotSIR(1)"
   ]
  },
  {
   "cell_type": "code",
   "execution_count": 17,
   "metadata": {
    "collapsed": false
   },
   "outputs": [],
   "source": [
    "data  = np.transpose(np.array([sir._Time, sir._SS, sir._II, sir._RR]))\n",
    "ddata = np.transpose(np.array([sir._Time, sir._dSS, sir._dII, sir._dRR]))"
   ]
  },
  {
   "cell_type": "code",
   "execution_count": null,
   "metadata": {
    "collapsed": true
   },
   "outputs": [],
   "source": [
    "sin = SINDy(data=data,polyorder=2,usesine=False)\n",
    "sin.setDerivative(ddata)"
   ]
  },
  {
   "cell_type": "code",
   "execution_count": null,
   "metadata": {
    "collapsed": false
   },
   "outputs": [],
   "source": [
    "sin.RunSINDy()"
   ]
  },
  {
   "cell_type": "code",
   "execution_count": null,
   "metadata": {
    "collapsed": true
   },
   "outputs": [],
   "source": [
    "sindy.SINDyPlot(statesymbols=[\"S\",\"I\",\"R\"])"
   ]
  },
  {
   "cell_type": "code",
   "execution_count": null,
   "metadata": {
    "collapsed": true
   },
   "outputs": [],
   "source": []
  }
 ],
 "metadata": {
  "kernelspec": {
   "display_name": "Python 2",
   "language": "python",
   "name": "python2"
  },
  "language_info": {
   "codemirror_mode": {
    "name": "ipython",
    "version": 2
   },
   "file_extension": ".py",
   "mimetype": "text/x-python",
   "name": "python",
   "nbconvert_exporter": "python",
   "pygments_lexer": "ipython2",
   "version": "2.7.13"
  }
 },
 "nbformat": 4,
 "nbformat_minor": 0
}
